{
 "cells": [
  {
   "cell_type": "code",
   "execution_count": 1,
   "id": "364e21b8-df3f-4fe3-ae1c-7139d16456ce",
   "metadata": {},
   "outputs": [],
   "source": [
    "import numpy as np\n",
    "import pandas as pd\n",
    "import warnings\n",
    " \n",
    "warnings.filterwarnings('ignore')"
   ]
  },
  {
   "cell_type": "code",
   "execution_count": 2,
   "id": "48277393-55a4-4f2c-8574-b5da16c27ccd",
   "metadata": {},
   "outputs": [],
   "source": [
    "x = [1, 1.3, 1.6, 1.9, 2.2]\n",
    "y = [0.7651977, 0.620086, 0.4554022, 0.2818186, 0.1103623]"
   ]
  },
  {
   "cell_type": "code",
   "execution_count": 3,
   "id": "176da11b-a190-4747-b68f-97946d6b0fe7",
   "metadata": {},
   "outputs": [],
   "source": [
    "def newton(data_x, data_y):\n",
    "    n = len(x)\n",
    "    p = np.zeros(n)\n",
    "    for k in range(n):\n",
    "        for i in range(n-k):\n",
    "            if k == 0:\n",
    "                p[i] = y[i]\n",
    "            else:\n",
    "                pembilang =  p[i+1]-p[i]\n",
    "                penyebut = x[i+k] - x[i]\n",
    "                p[i] = pembilang/penyebut\n",
    "                # print('P[%i] : %f => [i, k] : [%i,%i]'%(i, p[i], i, k))\n",
    "                # print('(y[i+1], y[i]) => y[%i] : %f, y[%i] : %f'%(i+1, y[i+1], i, y[i]))\n",
    "                # print('(x[i+1], x[i]) => x[%i] : %f, x[%i] : %f'%(i+1, x[i+1], i, x[i]))\n",
    "                # print('===================================================\\n')\n",
    "    return p[0]"
   ]
  },
  {
   "cell_type": "code",
   "execution_count": 4,
   "id": "34b2d2d6-f9a7-46b8-8009-24928cfff981",
   "metadata": {},
   "outputs": [
    {
     "data": {
      "text/plain": [
       "0.0018251028806604353"
      ]
     },
     "execution_count": 4,
     "metadata": {},
     "output_type": "execute_result"
    }
   ],
   "source": [
    "newton(x, y)"
   ]
  },
  {
   "cell_type": "code",
   "execution_count": null,
   "id": "e4c1c1b8-b80d-40f7-8844-0de38368634f",
   "metadata": {},
   "outputs": [],
   "source": []
  }
 ],
 "metadata": {
  "kernelspec": {
   "display_name": "Python 3 (ipykernel)",
   "language": "python",
   "name": "python3"
  },
  "language_info": {
   "codemirror_mode": {
    "name": "ipython",
    "version": 3
   },
   "file_extension": ".py",
   "mimetype": "text/x-python",
   "name": "python",
   "nbconvert_exporter": "python",
   "pygments_lexer": "ipython3",
   "version": "3.9.7"
  }
 },
 "nbformat": 4,
 "nbformat_minor": 5
}
