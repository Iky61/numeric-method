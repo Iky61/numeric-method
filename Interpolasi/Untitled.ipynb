{
 "cells": [
  {
   "cell_type": "code",
   "execution_count": 9,
   "id": "92455627-0635-4982-95fc-8b45d23b24ee",
   "metadata": {},
   "outputs": [],
   "source": [
    "import numpy as np"
   ]
  },
  {
   "cell_type": "code",
   "execution_count": 10,
   "id": "ab61aa16-38f7-493e-9e58-5ee3e2b3c91c",
   "metadata": {},
   "outputs": [],
   "source": [
    "x=[1.0,1.3,1.6,1.9,2.2]\n",
    "y=[0.755,0.62,0.455,0,281,0,11]\n",
    "n = len(x)\n",
    "p=np.zeros(n)"
   ]
  },
  {
   "cell_type": "code",
   "execution_count": 11,
   "id": "58f71096-9393-44be-8eb7-f3899d974027",
   "metadata": {},
   "outputs": [
    {
     "name": "stdout",
     "output_type": "stream",
     "text": [
      "=========\n",
      "0.0\n",
      "=========\n",
      "0.0\n",
      "=========\n",
      "0.0\n",
      "=========\n",
      "0.0\n",
      "=========\n",
      "0.0\n"
     ]
    }
   ],
   "source": [
    "for i in range(n):\n",
    "    for k in range(n - i):\n",
    "        if k == 0:\n",
    "            print(\"=========\")\n",
    "        else: \n",
    "            # print('[i, k] => [%i, %i]'%(i, k))\n",
    "            p[i] = (p[i+1] - p[i])/(x[i+k] - x[i])\n",
    "    print(p[0])"
   ]
  },
  {
   "cell_type": "code",
   "execution_count": null,
   "id": "baa52cbd-ffc3-457b-a186-74faeb7bfea8",
   "metadata": {},
   "outputs": [],
   "source": []
  }
 ],
 "metadata": {
  "kernelspec": {
   "display_name": "Python 3 (ipykernel)",
   "language": "python",
   "name": "python3"
  },
  "language_info": {
   "codemirror_mode": {
    "name": "ipython",
    "version": 3
   },
   "file_extension": ".py",
   "mimetype": "text/x-python",
   "name": "python",
   "nbconvert_exporter": "python",
   "pygments_lexer": "ipython3",
   "version": "3.9.7"
  }
 },
 "nbformat": 4,
 "nbformat_minor": 5
}
