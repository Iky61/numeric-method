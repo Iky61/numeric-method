{
 "cells": [
  {
   "cell_type": "code",
   "execution_count": 13,
   "id": "d975a1b4-c3f1-4322-9952-699469ec4d59",
   "metadata": {},
   "outputs": [
    {
     "name": "stdin",
     "output_type": "stream",
     "text": [
      "Enter number of data points:  3\n"
     ]
    },
    {
     "name": "stdout",
     "output_type": "stream",
     "text": [
      "Masukan Data x dan y: \n"
     ]
    },
    {
     "name": "stdin",
     "output_type": "stream",
     "text": [
      "x[0]= 2\n",
      "y[0]= 4\n"
     ]
    },
    {
     "name": "stdout",
     "output_type": "stream",
     "text": [
      "\n",
      "\n"
     ]
    },
    {
     "name": "stdin",
     "output_type": "stream",
     "text": [
      "x[1]= 3\n",
      "y[1]= 5\n"
     ]
    },
    {
     "name": "stdout",
     "output_type": "stream",
     "text": [
      "\n",
      "\n"
     ]
    },
    {
     "name": "stdin",
     "output_type": "stream",
     "text": [
      "x[2]= 4\n",
      "y[2]= 7\n"
     ]
    },
    {
     "name": "stdout",
     "output_type": "stream",
     "text": [
      "\n",
      "\n"
     ]
    },
    {
     "name": "stdin",
     "output_type": "stream",
     "text": [
      "Masukan point x yang hendak di cari :  3\n"
     ]
    },
    {
     "name": "stdout",
     "output_type": "stream",
     "text": [
      "Interpolated nilai x at 3.000 adalah y : 5.000\n"
     ]
    }
   ],
   "source": [
    "# INTERPOLASI LAGRANGE\n",
    "\n",
    "# Importing NumPy Library\n",
    "import numpy as np\n",
    "\n",
    "# Reading number of unknowns\n",
    "n = int(input('Enter number of data points: '))\n",
    "\n",
    "# buat suatu inputan x dan y sesuai dimensi n\n",
    "x = np.zeros((n))\n",
    "y = np.zeros((n))\n",
    "\n",
    "\n",
    "# Baca data point\n",
    "print('Masukan Data x dan y: ')\n",
    "for i in range(n):\n",
    "    x[i] = float(input( 'x['+str(i)+']='))\n",
    "    y[i] = float(input( 'y['+str(i)+']='))\n",
    "    print('\\n')\n",
    "\n",
    "\n",
    "# Baca point interpolasi\n",
    "xp = float(input('Masukan point x yang hendak di cari : '))\n",
    "\n",
    "# Menginisiasi hasil titik interpolasi awal adalah 0\n",
    "yp = 0\n",
    "\n",
    "# Implementasi Interpolasi Lagrange\n",
    "for i in range(n):\n",
    "    p = 1\n",
    "    for j in range(n):\n",
    "        if i != j:\n",
    "            p = p * (xp - x[j])/(x[i] - x[j])\n",
    "    yp = yp + p * y[i]    \n",
    "\n",
    "# Hasil\n",
    "print('Interpolated nilai x at %.3f adalah y : %.3f' %(xp, yp))"
   ]
  }
 ],
 "metadata": {
  "kernelspec": {
   "display_name": "Python 3 (ipykernel)",
   "language": "python",
   "name": "python3"
  },
  "language_info": {
   "codemirror_mode": {
    "name": "ipython",
    "version": 3
   },
   "file_extension": ".py",
   "mimetype": "text/x-python",
   "name": "python",
   "nbconvert_exporter": "python",
   "pygments_lexer": "ipython3",
   "version": "3.9.7"
  }
 },
 "nbformat": 4,
 "nbformat_minor": 5
}
