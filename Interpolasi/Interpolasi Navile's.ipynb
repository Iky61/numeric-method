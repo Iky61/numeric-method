{
 "cells": [
  {
   "cell_type": "markdown",
   "id": "c06b1299-d6e3-4f66-b816-e42df14f0191",
   "metadata": {},
   "source": [
    "## **INTERPOLASI NEVILLE**"
   ]
  },
  {
   "cell_type": "markdown",
   "id": "e25e13eb-ed7c-4558-8405-c4facb7e9da2",
   "metadata": {
    "tags": []
   },
   "source": [
    "### **Important Points**"
   ]
  },
  {
   "cell_type": "markdown",
   "id": "e373af25-dce8-4aae-b690-e86f29a40fae",
   "metadata": {},
   "source": [
    "1. Neville's algorithm is an algoritm used for polynoial interpolation\n",
    "2. This algorithm was derived by the mathematician Eric Harold Neville\n",
    "3. Given n + 1 points, there is a unique polynomial of degree <= n which goes through the given points\n",
    "4. **Nevile's Algorithm** is based on the **Newton form** of the interpolating polynomial and the recursion relation for the divided differences."
   ]
  },
  {
   "cell_type": "code",
   "execution_count": 1,
   "id": "cf71da4f-120c-4fec-ad67-7537edf9174c",
   "metadata": {},
   "outputs": [],
   "source": [
    "import numpy as np"
   ]
  },
  {
   "cell_type": "code",
   "execution_count": 2,
   "id": "302a2544-095e-4f40-943f-93641f522ecd",
   "metadata": {},
   "outputs": [],
   "source": [
    "X = [1, 1.3, 1.6, 1.9, 2.2]\n",
    "Y = [0.7651, 0.62, 0.4554, 0.2818, 0.1103]"
   ]
  },
  {
   "cell_type": "code",
   "execution_count": 3,
   "id": "9d1938ed-c3d6-4ad9-b674-0a04e6070913",
   "metadata": {},
   "outputs": [],
   "source": [
    "n = len(X)\n",
    "p = [0,0,0,0,0]\n",
    "\n",
    "def neville(datax, datay, x):\n",
    "    for k in range(n):\n",
    "        for i in range(n-k):\n",
    "            if k == 0:\n",
    "                p[i] = datay[i]\n",
    "                print('(k, i) : (%i, %i) => %f'%(k, i, p[i]))\n",
    "                print('=====')\n",
    "            else:\n",
    "                pembilang = ( (x-datax[i])*p[i+1] ) - ( (x - datax[i+k])*p[i] )\n",
    "                penyebut = ( datax[i+k] - datax[i] )\n",
    "                p[i] = pembilang/penyebut\n",
    "                print('(k, i) : (%i, %i) => %f'%(k, i, p[i]))\n",
    "    return p[0]"
   ]
  },
  {
   "cell_type": "code",
   "execution_count": 4,
   "id": "8601125a-ffa4-4efc-b0b9-57d349782e9a",
   "metadata": {},
   "outputs": [
    {
     "name": "stdout",
     "output_type": "stream",
     "text": [
      "(k, i) : (0, 0) => 0.765100\n",
      "=====\n",
      "(k, i) : (0, 1) => 0.620000\n",
      "=====\n",
      "(k, i) : (0, 2) => 0.455400\n",
      "=====\n",
      "(k, i) : (0, 3) => 0.281800\n",
      "=====\n",
      "(k, i) : (0, 4) => 0.110300\n",
      "=====\n",
      "(k, i) : (1, 0) => 0.523267\n",
      "(k, i) : (1, 1) => 0.510267\n",
      "(k, i) : (1, 2) => 0.513267\n",
      "(k, i) : (1, 3) => 0.510467\n",
      "(k, i) : (2, 0) => 0.512433\n",
      "(k, i) : (2, 1) => 0.511267\n",
      "(k, i) : (2, 2) => 0.513733\n",
      "(k, i) : (3, 0) => 0.511785\n",
      "(k, i) : (3, 1) => 0.511815\n",
      "(k, i) : (4, 0) => 0.511798\n"
     ]
    },
    {
     "data": {
      "text/plain": [
       "0.5117975308641977"
      ]
     },
     "execution_count": 4,
     "metadata": {},
     "output_type": "execute_result"
    }
   ],
   "source": [
    "neville(X, Y, 1.5)"
   ]
  },
  {
   "cell_type": "code",
   "execution_count": 5,
   "id": "70f1f1af-9dc6-4855-ac32-8892800ee872",
   "metadata": {},
   "outputs": [
    {
     "name": "stdout",
     "output_type": "stream",
     "text": [
      "P[0] => 0.511798\n",
      "P[1] => 0.511815\n",
      "P[2] => 0.513733\n",
      "P[3] => 0.510467\n",
      "P[4] => 0.110300\n"
     ]
    }
   ],
   "source": [
    "for i in range(0, len(p)):\n",
    "    print('P[%i] => %f'%(i, p[i]))"
   ]
  },
  {
   "cell_type": "code",
   "execution_count": null,
   "id": "5b870be7-6f0e-46f2-a4f4-63af74f55fd9",
   "metadata": {},
   "outputs": [],
   "source": []
  }
 ],
 "metadata": {
  "kernelspec": {
   "display_name": "Python 3 (ipykernel)",
   "language": "python",
   "name": "python3"
  },
  "language_info": {
   "codemirror_mode": {
    "name": "ipython",
    "version": 3
   },
   "file_extension": ".py",
   "mimetype": "text/x-python",
   "name": "python",
   "nbconvert_exporter": "python",
   "pygments_lexer": "ipython3",
   "version": "3.9.7"
  }
 },
 "nbformat": 4,
 "nbformat_minor": 5
}
