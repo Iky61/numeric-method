{
 "cells": [
  {
   "cell_type": "markdown",
   "id": "e6c15e7c-2b7a-4820-83e2-e682cf72d884",
   "metadata": {},
   "source": [
    "### Bisection Method"
   ]
  },
  {
   "cell_type": "code",
   "execution_count": 1,
   "id": "cc4ad0d6-b68b-49f7-a3f5-da2f54300949",
   "metadata": {},
   "outputs": [],
   "source": [
    "import math"
   ]
  },
  {
   "cell_type": "code",
   "execution_count": 2,
   "id": "170a8644-53b8-4560-9c3c-40fa1de8b2d6",
   "metadata": {},
   "outputs": [],
   "source": [
    "# buat suatu fungsi\n",
    "def f(x):\n",
    "    y = (x**3) + (x**2) -3\n",
    "    return y"
   ]
  },
  {
   "cell_type": "code",
   "execution_count": 9,
   "id": "5bb2985d-d828-447f-bb33-e7ed7d6f8ee1",
   "metadata": {},
   "outputs": [],
   "source": [
    "def bisection(f, a, b, e=0.0004, N=100):\n",
    "    x_a = a\n",
    "    x_b = b\n",
    "    \n",
    "    if f(x_a)*f(x_b) >= 0:\n",
    "        print('Tidak terdapat solusi')\n",
    "        return None\n",
    "    \n",
    "    else:    \n",
    "        print('it\\t a\\t c\\t b\\t f(a)\\t f(b)\\t f(c)\\t\\t |f(c)|')\n",
    "        print('=====================================================================')\n",
    "    \n",
    "        for i in range(0, N):\n",
    "            x_c = (x_a + x_b)/2\n",
    "            print('%i\\t %.4f\\t %.4f\\t %.4f\\t %.4f %.4f\\t %.5f\\t %.4f' %(i, x_a, x_c, x_b, f(x_a), f(x_b), f(x_c), abs(f(x_c))))\n",
    "            \n",
    "            if (abs(f(x_c))) < e:\n",
    "                print('\\nToleransi Terpenuhi')\n",
    "                print('Solusi didapatkan : ', x_c)\n",
    "                break\n",
    "            else:\n",
    "                if f(x_a) * f(x_c) < 0:\n",
    "                    x_b = x_c\n",
    "                elif f(x_b) * f(x_c) < 0:\n",
    "                    x_a = x_c\n",
    "    return x_c"
   ]
  },
  {
   "cell_type": "code",
   "execution_count": 10,
   "id": "65132640-0653-4cce-ab62-e36b436a126a",
   "metadata": {},
   "outputs": [
    {
     "name": "stdout",
     "output_type": "stream",
     "text": [
      "it\t a\t c\t b\t f(a)\t f(b)\t f(c)\t\t |f(c)|\n",
      "=====================================================================\n",
      "0\t 0.2500\t 1.0000\t 1.7500\t -2.9219 5.4219\t -1.00000\t 1.0000\n",
      "1\t 1.0000\t 1.3750\t 1.7500\t -1.0000 5.4219\t 1.49023\t 1.4902\n",
      "2\t 1.0000\t 1.1875\t 1.3750\t -1.0000 1.4902\t 0.08472\t 0.0847\n",
      "3\t 1.0000\t 1.0938\t 1.1875\t -1.0000 0.0847\t -0.49527\t 0.4953\n",
      "4\t 1.0938\t 1.1406\t 1.1875\t -0.4953 0.0847\t -0.21499\t 0.2150\n",
      "5\t 1.1406\t 1.1641\t 1.1875\t -0.2150 0.0847\t -0.06761\t 0.0676\n",
      "6\t 1.1641\t 1.1758\t 1.1875\t -0.0676 0.0847\t 0.00793\t 0.0079\n",
      "7\t 1.1641\t 1.1699\t 1.1758\t -0.0676 0.0079\t -0.02999\t 0.0300\n",
      "8\t 1.1699\t 1.1729\t 1.1758\t -0.0300 0.0079\t -0.01107\t 0.0111\n",
      "9\t 1.1729\t 1.1743\t 1.1758\t -0.0111 0.0079\t -0.00158\t 0.0016\n",
      "10\t 1.1743\t 1.1750\t 1.1758\t -0.0016 0.0079\t 0.00318\t 0.0032\n",
      "11\t 1.1743\t 1.1747\t 1.1750\t -0.0016 0.0032\t 0.00080\t 0.0008\n",
      "12\t 1.1743\t 1.1745\t 1.1747\t -0.0016 0.0008\t -0.00039\t 0.0004\n",
      "\n",
      "Toleransi Terpenuhi\n",
      "Solusi didapatkan :  1.17449951171875\n",
      "1.17449951171875\n"
     ]
    }
   ],
   "source": [
    "a = 0.25\n",
    "b = 1.75\n",
    "\n",
    "x_root = bisection(f, a, b)\n",
    "print(x_root)"
   ]
  },
  {
   "cell_type": "code",
   "execution_count": null,
   "id": "74d225ba-b999-42d8-b861-c56235e14546",
   "metadata": {},
   "outputs": [],
   "source": []
  },
  {
   "cell_type": "code",
   "execution_count": null,
   "id": "bfd152e9-2a61-4653-a042-0df10fee1bd7",
   "metadata": {},
   "outputs": [],
   "source": []
  }
 ],
 "metadata": {
  "kernelspec": {
   "display_name": "Python 3 (ipykernel)",
   "language": "python",
   "name": "python3"
  },
  "language_info": {
   "codemirror_mode": {
    "name": "ipython",
    "version": 3
   },
   "file_extension": ".py",
   "mimetype": "text/x-python",
   "name": "python",
   "nbconvert_exporter": "python",
   "pygments_lexer": "ipython3",
   "version": "3.9.7"
  }
 },
 "nbformat": 4,
 "nbformat_minor": 5
}
