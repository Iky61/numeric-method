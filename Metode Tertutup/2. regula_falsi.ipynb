{
 "cells": [
  {
   "cell_type": "markdown",
   "id": "3c348e9e-0f55-4054-b6d3-0c3e5eb7f372",
   "metadata": {},
   "source": [
    "### Regula Falsi Method"
   ]
  },
  {
   "cell_type": "code",
   "execution_count": 1,
   "id": "dca3b065-a260-4999-9902-4b011d5370ac",
   "metadata": {},
   "outputs": [],
   "source": [
    "import math"
   ]
  },
  {
   "cell_type": "code",
   "execution_count": 2,
   "id": "980b449f-5166-48a4-b9f5-3778473258de",
   "metadata": {},
   "outputs": [],
   "source": [
    "# Buat suatu fungsi\n",
    "def f(x):\n",
    "    y = math.cos(x)-x\n",
    "    return y"
   ]
  },
  {
   "cell_type": "code",
   "execution_count": 3,
   "id": "a3a44096-3c0c-4fce-8437-245fc798bcbf",
   "metadata": {},
   "outputs": [],
   "source": [
    "# Buat fungsi method regula falsi\n",
    "def regula_falsi(f, a, b, e=0.0001, N=100):\n",
    "    x_bawah = a\n",
    "    x_atas = b\n",
    "    \n",
    "    if f(x_bawah) * f(x_atas) > 0:\n",
    "        print('Tidak terdapat solusi')\n",
    "    else:\n",
    "        print('it\\t a\\t c\\t b\\t f(a)\\t f(b)\\t f(c)\\t\\t |f(c)|')\n",
    "        print('======================================================================')\n",
    "        \n",
    "        for i in range(0, N):\n",
    "            x_c = x_atas-((f(x_atas)/(f(x_atas)-f(x_bawah))*(x_atas-x_bawah)))\n",
    "            print('%i\\t %.4f\\t %.4f\\t %.4f\\t %.4f %.4f\\t %.5f\\t %.4f' %(i, x_bawah, x_c, x_atas, f(x_bawah), f(x_atas), f(x_c), abs(f(x_c))))\n",
    "            \n",
    "            if abs(f(x_c)) < e:\n",
    "                print('Solusi didapatkan :', x_c)\n",
    "                break\n",
    "            else:\n",
    "                if f(x_c)<0:\n",
    "                    x_bawah = x_c\n",
    "                elif f(x_c)>0:\n",
    "                    x_atas = x_c\n",
    "    return x_c"
   ]
  },
  {
   "cell_type": "code",
   "execution_count": 4,
   "id": "aadd4a19-eb45-4078-8fda-6cf3f3bb0586",
   "metadata": {},
   "outputs": [
    {
     "name": "stdout",
     "output_type": "stream",
     "text": [
      "it\t a\t c\t b\t f(a)\t f(b)\t f(c)\t\t |f(c)|\n",
      "======================================================================\n",
      "0\t 0.5000\t 0.7255\t 1.0000\t 0.3776 -0.4597\t 0.02270\t 0.0227\n",
      "1\t 0.5000\t 0.7399\t 0.7255\t 0.3776 0.0227\t -0.00137\t 0.0014\n",
      "2\t 0.7399\t 0.7391\t 0.7255\t -0.0014 0.0227\t 0.00000\t 0.0000\n",
      "Solusi didapatkan : 0.739082658866119\n",
      "0.739082658866119\n"
     ]
    }
   ],
   "source": [
    "a = 0.5\n",
    "b = 1\n",
    "\n",
    "x_root = regula_falsi(f, a, b)\n",
    "print(x_root)"
   ]
  },
  {
   "cell_type": "code",
   "execution_count": null,
   "id": "dfef5883-828e-4921-bc5f-e36f4426613e",
   "metadata": {},
   "outputs": [],
   "source": []
  }
 ],
 "metadata": {
  "kernelspec": {
   "display_name": "Python 3 (ipykernel)",
   "language": "python",
   "name": "python3"
  },
  "language_info": {
   "codemirror_mode": {
    "name": "ipython",
    "version": 3
   },
   "file_extension": ".py",
   "mimetype": "text/x-python",
   "name": "python",
   "nbconvert_exporter": "python",
   "pygments_lexer": "ipython3",
   "version": "3.9.7"
  }
 },
 "nbformat": 4,
 "nbformat_minor": 5
}
