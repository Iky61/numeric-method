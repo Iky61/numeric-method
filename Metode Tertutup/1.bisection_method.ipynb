{
 "cells": [
  {
   "cell_type": "markdown",
   "id": "e6c15e7c-2b7a-4820-83e2-e682cf72d884",
   "metadata": {},
   "source": [
    "### Bisection Method"
   ]
  },
  {
   "cell_type": "code",
   "execution_count": 4,
   "id": "cc4ad0d6-b68b-49f7-a3f5-da2f54300949",
   "metadata": {},
   "outputs": [],
   "source": [
    "import math"
   ]
  },
  {
   "cell_type": "code",
   "execution_count": 5,
   "id": "170a8644-53b8-4560-9c3c-40fa1de8b2d6",
   "metadata": {},
   "outputs": [],
   "source": [
    "# buat suatu fungsi\n",
    "def f(x):\n",
    "    y = x**2+3*x-6\n",
    "    return y"
   ]
  },
  {
   "cell_type": "code",
   "execution_count": 6,
   "id": "5bb2985d-d828-447f-bb33-e7ed7d6f8ee1",
   "metadata": {
    "jupyter": {
     "source_hidden": true
    },
    "tags": []
   },
   "outputs": [],
   "source": [
    "def bisection(f, a, b, e=0.0004, N=100):\n",
    "    x_a = a\n",
    "    x_b = b\n",
    "    \n",
    "    if f(x_a)*f(x_b) >= 0:\n",
    "        print('Tidak terdapat solusi')\n",
    "        return None\n",
    "    \n",
    "    else:    \n",
    "        print('it\\t a\\t c\\t b\\t f(a)\\t f(b)\\t f(c)\\t\\t |f(c)|')\n",
    "        print('=====================================================================')\n",
    "    \n",
    "        for i in range(0, N):\n",
    "            x_c = (x_a + x_b)/2\n",
    "            print('%i\\t %.4f\\t %.4f\\t %.4f\\t %.4f %.4f\\t %.5f\\t %.4f' %(i, x_a, x_c, x_b, f(x_a), f(x_b), f(x_c), abs(f(x_c))))\n",
    "            \n",
    "            if (abs(f(x_c))) < e:\n",
    "                print('\\nToleransi Terpenuhi')\n",
    "                print('Solusi didapatkan : ', x_c)\n",
    "                break\n",
    "            else:\n",
    "                if f(x_a) * f(x_c) < 0:\n",
    "                    x_b = x_c\n",
    "                elif f(x_b) * f(x_c) < 0:\n",
    "                    x_a = x_c\n",
    "    return x_c"
   ]
  },
  {
   "cell_type": "code",
   "execution_count": 8,
   "id": "65132640-0653-4cce-ab62-e36b436a126a",
   "metadata": {},
   "outputs": [
    {
     "name": "stdout",
     "output_type": "stream",
     "text": [
      "it\t a\t c\t b\t f(a)\t f(b)\t f(c)\t\t |f(c)|\n",
      "=====================================================================\n",
      "0\t 1.0000\t 1.5000\t 2.0000\t -2.0000 4.0000\t 0.75000\t 0.7500\n",
      "1\t 1.0000\t 1.2500\t 1.5000\t -2.0000 0.7500\t -0.68750\t 0.6875\n",
      "2\t 1.2500\t 1.3750\t 1.5000\t -0.6875 0.7500\t 0.01562\t 0.0156\n",
      "3\t 1.2500\t 1.3125\t 1.3750\t -0.6875 0.0156\t -0.33984\t 0.3398\n",
      "4\t 1.3125\t 1.3438\t 1.3750\t -0.3398 0.0156\t -0.16309\t 0.1631\n",
      "5\t 1.3438\t 1.3594\t 1.3750\t -0.1631 0.0156\t -0.07397\t 0.0740\n",
      "6\t 1.3594\t 1.3672\t 1.3750\t -0.0740 0.0156\t -0.02924\t 0.0292\n",
      "7\t 1.3672\t 1.3711\t 1.3750\t -0.0292 0.0156\t -0.00682\t 0.0068\n",
      "8\t 1.3711\t 1.3730\t 1.3750\t -0.0068 0.0156\t 0.00440\t 0.0044\n",
      "9\t 1.3711\t 1.3721\t 1.3730\t -0.0068 0.0044\t -0.00121\t 0.0012\n",
      "10\t 1.3721\t 1.3726\t 1.3730\t -0.0012 0.0044\t 0.00159\t 0.0016\n",
      "11\t 1.3721\t 1.3723\t 1.3726\t -0.0012 0.0016\t 0.00019\t 0.0002\n",
      "\n",
      "Toleransi Terpenuhi\n",
      "Solusi didapatkan :  1.372314453125\n"
     ]
    },
    {
     "data": {
      "text/plain": [
       "1.372314453125"
      ]
     },
     "execution_count": 8,
     "metadata": {},
     "output_type": "execute_result"
    }
   ],
   "source": [
    "a = 1\n",
    "b = 2\n",
    "\n",
    "bisection(f, a, b, e=0.0004, N=100)"
   ]
  },
  {
   "cell_type": "code",
   "execution_count": null,
   "id": "74d225ba-b999-42d8-b861-c56235e14546",
   "metadata": {},
   "outputs": [],
   "source": []
  },
  {
   "cell_type": "code",
   "execution_count": null,
   "id": "bfd152e9-2a61-4653-a042-0df10fee1bd7",
   "metadata": {},
   "outputs": [],
   "source": []
  }
 ],
 "metadata": {
  "kernelspec": {
   "display_name": "Python 3 (ipykernel)",
   "language": "python",
   "name": "python3"
  },
  "language_info": {
   "codemirror_mode": {
    "name": "ipython",
    "version": 3
   },
   "file_extension": ".py",
   "mimetype": "text/x-python",
   "name": "python",
   "nbconvert_exporter": "python",
   "pygments_lexer": "ipython3",
   "version": "3.9.7"
  }
 },
 "nbformat": 4,
 "nbformat_minor": 5
}
