{
 "cells": [
  {
   "cell_type": "markdown",
   "id": "e6c15e7c-2b7a-4820-83e2-e682cf72d884",
   "metadata": {},
   "source": [
    "### Bisection Method"
   ]
  },
  {
   "cell_type": "code",
   "execution_count": 1,
   "id": "cc4ad0d6-b68b-49f7-a3f5-da2f54300949",
   "metadata": {},
   "outputs": [],
   "source": [
    "import math"
   ]
  },
  {
   "cell_type": "code",
   "execution_count": 2,
   "id": "170a8644-53b8-4560-9c3c-40fa1de8b2d6",
   "metadata": {},
   "outputs": [],
   "source": [
    "# buat suatu fungsi\n",
    "def f(x):\n",
    "    y = math.cos(x) - x\n",
    "    return y"
   ]
  },
  {
   "cell_type": "code",
   "execution_count": 3,
   "id": "5bb2985d-d828-447f-bb33-e7ed7d6f8ee1",
   "metadata": {},
   "outputs": [],
   "source": [
    "def bisection(f, a, b, e=0.0004, N=100):\n",
    "    x_a = a\n",
    "    x_b = b\n",
    "    \n",
    "    if f(x_a)*f(x_b) >= 0:\n",
    "        print('Tidak terdapat solusi')\n",
    "        return None\n",
    "    \n",
    "    else:    \n",
    "        print('it\\t a\\t c\\t b\\t f(a)\\t f(b)\\t f(c)\\t\\t |f(c)|')\n",
    "        print('=====================================================================')\n",
    "    \n",
    "        for i in range(0, N):\n",
    "            x_c = (x_a + x_b)/2\n",
    "            print('%i\\t %.4f\\t %.4f\\t %.4f\\t %.4f %.4f\\t %.5f\\t %.4f' %(i, x_a, x_c, x_b, f(x_a), f(x_b), f(x_c), abs(f(x_c))))\n",
    "            \n",
    "            if (abs(f(x_c))) < e:\n",
    "                print('\\nToleransi Terpenuhi')\n",
    "                print('Solusi didapatkan : ', x_c)\n",
    "                break\n",
    "            else:\n",
    "                if f(x_a) * f(x_c) < 0:\n",
    "                    x_b = x_c\n",
    "                elif f(x_b) * f(x_c) < 0:\n",
    "                    x_a = x_c\n",
    "    return x_c"
   ]
  },
  {
   "cell_type": "code",
   "execution_count": 4,
   "id": "65132640-0653-4cce-ab62-e36b436a126a",
   "metadata": {},
   "outputs": [
    {
     "name": "stdout",
     "output_type": "stream",
     "text": [
      "it\t a\t c\t b\t f(a)\t f(b)\t f(c)\t\t |f(c)|\n",
      "=====================================================================\n",
      "0\t 0.5000\t 0.7500\t 1.0000\t 0.3776 -0.4597\t -0.01831\t 0.0183\n",
      "1\t 0.5000\t 0.6250\t 0.7500\t 0.3776 -0.0183\t 0.18596\t 0.1860\n",
      "2\t 0.6250\t 0.6875\t 0.7500\t 0.1860 -0.0183\t 0.08533\t 0.0853\n",
      "3\t 0.6875\t 0.7188\t 0.7500\t 0.0853 -0.0183\t 0.03388\t 0.0339\n",
      "4\t 0.7188\t 0.7344\t 0.7500\t 0.0339 -0.0183\t 0.00787\t 0.0079\n",
      "5\t 0.7344\t 0.7422\t 0.7500\t 0.0079 -0.0183\t -0.00520\t 0.0052\n",
      "6\t 0.7344\t 0.7383\t 0.7422\t 0.0079 -0.0052\t 0.00135\t 0.0013\n",
      "7\t 0.7383\t 0.7402\t 0.7422\t 0.0013 -0.0052\t -0.00192\t 0.0019\n",
      "8\t 0.7383\t 0.7393\t 0.7402\t 0.0013 -0.0019\t -0.00029\t 0.0003\n",
      "\n",
      "Toleransi Terpenuhi\n",
      "Solusi didapatkan :  0.7392578125\n",
      "0.7392578125\n"
     ]
    }
   ],
   "source": [
    "a = 0.5\n",
    "b = 1\n",
    "\n",
    "x_root = bisection(f, a, b)\n",
    "print(x_root)"
   ]
  },
  {
   "cell_type": "code",
   "execution_count": null,
   "id": "74d225ba-b999-42d8-b861-c56235e14546",
   "metadata": {},
   "outputs": [],
   "source": []
  },
  {
   "cell_type": "code",
   "execution_count": null,
   "id": "bfd152e9-2a61-4653-a042-0df10fee1bd7",
   "metadata": {},
   "outputs": [],
   "source": []
  }
 ],
 "metadata": {
  "kernelspec": {
   "display_name": "Python 3 (ipykernel)",
   "language": "python",
   "name": "python3"
  },
  "language_info": {
   "codemirror_mode": {
    "name": "ipython",
    "version": 3
   },
   "file_extension": ".py",
   "mimetype": "text/x-python",
   "name": "python",
   "nbconvert_exporter": "python",
   "pygments_lexer": "ipython3",
   "version": "3.9.7"
  }
 },
 "nbformat": 4,
 "nbformat_minor": 5
}
