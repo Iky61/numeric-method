{
 "cells": [
  {
   "cell_type": "code",
   "execution_count": 2,
   "id": "6be34ed1-942a-4d20-ab62-c38ec57665e7",
   "metadata": {},
   "outputs": [],
   "source": [
    "import numpy as np"
   ]
  },
  {
   "cell_type": "code",
   "execution_count": 3,
   "id": "9e62fe54-cbed-44ca-84a1-1a90388da217",
   "metadata": {},
   "outputs": [],
   "source": [
    "# Buat matriks A\n",
    "A = np.array([\n",
    "    [1,2,-1,1],\n",
    "    [-1,1,2,-1],\n",
    "    [2,-1,2,2],\n",
    "    [1,1,-1,2]], float)"
   ]
  },
  {
   "cell_type": "code",
   "execution_count": 4,
   "id": "46cf4206-4e45-4d42-9a0a-8804b8b96c89",
   "metadata": {},
   "outputs": [],
   "source": [
    "# Buat matriks B\n",
    "B = np.array([6,3,14,8], float)"
   ]
  },
  {
   "cell_type": "code",
   "execution_count": null,
   "id": "0f61a4ac-b06c-40cd-9f52-34725f38c78c",
   "metadata": {},
   "outputs": [],
   "source": []
  },
  {
   "cell_type": "code",
   "execution_count": null,
   "id": "c94a4e45-2441-41be-b716-589755c77edf",
   "metadata": {},
   "outputs": [],
   "source": []
  },
  {
   "cell_type": "code",
   "execution_count": 7,
   "id": "7767f536-91ea-4f93-be0f-250a8df0b128",
   "metadata": {},
   "outputs": [],
   "source": [
    "n = len(B)\n",
    "X = np.zeros(n, float)"
   ]
  },
  {
   "cell_type": "code",
   "execution_count": 13,
   "id": "78e53ed1-7914-4efb-85af-f650e1201d2d",
   "metadata": {},
   "outputs": [
    {
     "name": "stdout",
     "output_type": "stream",
     "text": [
      "Solusinya adalah :  [1. 2. 3. 4.]\n"
     ]
    }
   ],
   "source": [
    "# Forward Elimination\n",
    "for i in range(n-1):\n",
    "    for k in range(i+1, n):\n",
    "        fctr = A[k, i]/A[i,i]\n",
    "        for j in range(i, n):\n",
    "            A[k,j] = A[k,j] - fctr*A[i,j]\n",
    "        B[k] = B[k] - fctr*B[i]\n",
    "        \n",
    "# Back-subtitution \n",
    "X[n-1] = B[n-1]/A[n-1, n-1]\n",
    "for k in range(n-2, -1, -1):\n",
    "    Sum = B[k]\n",
    "    for j in range(k+1, n):\n",
    "        Sum = Sum - A[k, j]*X[j]\n",
    "    X[k] = Sum/A[k,k]\n",
    "    \n",
    "print('Solusinya adalah : ', X)"
   ]
  },
  {
   "cell_type": "code",
   "execution_count": null,
   "id": "c111a2ff-0240-4949-82c0-68643d2af7cd",
   "metadata": {},
   "outputs": [],
   "source": []
  },
  {
   "cell_type": "code",
   "execution_count": null,
   "id": "671e4fbe-5023-496d-9f32-8bac604c8a4c",
   "metadata": {},
   "outputs": [],
   "source": []
  }
 ],
 "metadata": {
  "kernelspec": {
   "display_name": "Python 3 (ipykernel)",
   "language": "python",
   "name": "python3"
  },
  "language_info": {
   "codemirror_mode": {
    "name": "ipython",
    "version": 3
   },
   "file_extension": ".py",
   "mimetype": "text/x-python",
   "name": "python",
   "nbconvert_exporter": "python",
   "pygments_lexer": "ipython3",
   "version": "3.9.7"
  }
 },
 "nbformat": 4,
 "nbformat_minor": 5
}
