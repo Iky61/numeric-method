{
 "cells": [
  {
   "cell_type": "markdown",
   "id": "7a8fa3b9-8eaa-4a4c-b571-ea2d8e1e7279",
   "metadata": {},
   "source": [
    "### The Fixed Point Method"
   ]
  },
  {
   "cell_type": "code",
   "execution_count": 1,
   "id": "08d7fdcb-6b27-4a60-baa4-42a37d2d8f07",
   "metadata": {},
   "outputs": [],
   "source": [
    "import math"
   ]
  },
  {
   "cell_type": "code",
   "execution_count": 11,
   "id": "306961d2-32d4-46aa-879e-e0cde0c5d65e",
   "metadata": {},
   "outputs": [],
   "source": [
    "# buat suatu fungsi persamaan\n",
    "def f(x):\n",
    "    y = ((x+10)**(1/4))\n",
    "    return y"
   ]
  },
  {
   "cell_type": "code",
   "execution_count": 12,
   "id": "67523bd4-c353-4755-ae09-9f27503e3c4f",
   "metadata": {},
   "outputs": [],
   "source": [
    "# buat fungsi fixed point\n",
    "def fixed_point(f, a, e=0.00001, N=20):\n",
    "    x0 = a\n",
    "    print('it\\t x0\\t xn\\t f(x0)\\t f(xn)')\n",
    "    print('=======================================')\n",
    "    for i in range(0, N):\n",
    "        xn = f(x0)\n",
    "        print('%i\\t %.4f\\t %.4f\\t %.4f\\t %.4f' %(i, x0, xn, f(x0), f(xn)))\n",
    "        if abs(xn - x0) < e:\n",
    "            print('Solusi didapatkan : ', xn)\n",
    "            break\n",
    "        else :\n",
    "            x0 = xn\n",
    "    return xn"
   ]
  },
  {
   "cell_type": "code",
   "execution_count": 13,
   "id": "2c0dbac0-cffd-4d7b-9509-678d23b98efb",
   "metadata": {},
   "outputs": [
    {
     "name": "stdout",
     "output_type": "stream",
     "text": [
      "it\t x0\t xn\t f(x0)\t f(xn)\n",
      "=======================================\n",
      "0\t 2.0000\t 1.8612\t 1.8612\t 1.8558\n",
      "1\t 1.8612\t 1.8558\t 1.8558\t 1.8556\n",
      "2\t 1.8558\t 1.8556\t 1.8556\t 1.8556\n",
      "3\t 1.8556\t 1.8556\t 1.8556\t 1.8556\n",
      "Solusi didapatkan :  1.8555848655790224\n",
      "1.8555848655790224\n"
     ]
    }
   ],
   "source": [
    "a = 2\n",
    "\n",
    "x_root = fixed_point(f, a)\n",
    "print(x_root)"
   ]
  },
  {
   "cell_type": "code",
   "execution_count": null,
   "id": "ab455d65-3dff-4427-bdb5-59fbdac4a427",
   "metadata": {},
   "outputs": [],
   "source": []
  }
 ],
 "metadata": {
  "kernelspec": {
   "display_name": "Python 3 (ipykernel)",
   "language": "python",
   "name": "python3"
  },
  "language_info": {
   "codemirror_mode": {
    "name": "ipython",
    "version": 3
   },
   "file_extension": ".py",
   "mimetype": "text/x-python",
   "name": "python",
   "nbconvert_exporter": "python",
   "pygments_lexer": "ipython3",
   "version": "3.9.7"
  }
 },
 "nbformat": 4,
 "nbformat_minor": 5
}
