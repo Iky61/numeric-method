{
 "cells": [
  {
   "cell_type": "markdown",
   "id": "5d2d01a7-bae0-4af0-8496-16688f9919d4",
   "metadata": {},
   "source": [
    "### Secant Method"
   ]
  },
  {
   "cell_type": "code",
   "execution_count": 1,
   "id": "4796bc6f-7e52-4ac3-96ae-8cc6243b33f6",
   "metadata": {},
   "outputs": [],
   "source": [
    "def f(x):\n",
    "    y = x**4+x-10\n",
    "    return y"
   ]
  },
  {
   "cell_type": "code",
   "execution_count": 2,
   "id": "4887ce9c-5395-49a1-92f3-3e0bea834e8b",
   "metadata": {},
   "outputs": [],
   "source": [
    "def secant(f, x0, x1, e=0.0001, N=20):\n",
    "    print('it\\t x0\\t\\t x1\\t\\t f(x1)')\n",
    "    print('======================================================')\n",
    "    for i in range(0, N):\n",
    "        print('%i\\t |%.4f\\t |%.4f\\t |%.4f'%(i, x0, x1, f(x1)))\n",
    "        x2 = x1 - f(x1)*(x1-x0)/(f(x1)-f(x0))\n",
    "        x0 = x1\n",
    "        x1 = x2\n",
    "        if abs(f(x1)) < e:\n",
    "            print('Solusi didapatkan : ', x1)\n",
    "            break\n",
    "    return x1"
   ]
  },
  {
   "cell_type": "code",
   "execution_count": 3,
   "id": "2b908c54-3232-4f8e-af89-86738f2708be",
   "metadata": {},
   "outputs": [
    {
     "name": "stdout",
     "output_type": "stream",
     "text": [
      "it\t x0\t\t x1\t\t f(x1)\n",
      "======================================================\n",
      "0\t |8.0000\t |9.0000\t |6560.0000\n",
      "1\t |9.0000\t |6.3398\t |1611.8442\n",
      "2\t |6.3398\t |5.4733\t |892.8814\n",
      "3\t |5.4733\t |4.3971\t |368.2248\n",
      "4\t |4.3971\t |3.6418\t |169.5455\n",
      "5\t |3.6418\t |2.9973\t |73.7042\n",
      "6\t |2.9973\t |2.5016\t |31.6653\n",
      "7\t |2.5016\t |2.1283\t |12.6447\n",
      "8\t |2.1283\t |1.8801\t |4.3737\n",
      "9\t |1.8801\t |1.7488\t |1.1023\n",
      "10\t |1.7488\t |1.7046\t |0.1472\n",
      "11\t |1.7046\t |1.6978\t |0.0062\n",
      "Solusi didapatkan :  1.6974736654325215\n",
      "1.6974736654325215\n"
     ]
    }
   ],
   "source": [
    "x_root = secant(f, x0=8, x1=9)\n",
    "print(x_root)"
   ]
  },
  {
   "cell_type": "code",
   "execution_count": null,
   "id": "b92227be-9501-43fb-8597-873d5cb6faea",
   "metadata": {},
   "outputs": [],
   "source": []
  }
 ],
 "metadata": {
  "kernelspec": {
   "display_name": "Python 3 (ipykernel)",
   "language": "python",
   "name": "python3"
  },
  "language_info": {
   "codemirror_mode": {
    "name": "ipython",
    "version": 3
   },
   "file_extension": ".py",
   "mimetype": "text/x-python",
   "name": "python",
   "nbconvert_exporter": "python",
   "pygments_lexer": "ipython3",
   "version": "3.9.7"
  }
 },
 "nbformat": 4,
 "nbformat_minor": 5
}
