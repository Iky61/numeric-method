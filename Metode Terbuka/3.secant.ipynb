{
 "cells": [
  {
   "cell_type": "markdown",
   "id": "5d2d01a7-bae0-4af0-8496-16688f9919d4",
   "metadata": {},
   "source": [
    "### Secant Method"
   ]
  },
  {
   "cell_type": "code",
   "execution_count": 5,
   "id": "974b7993-c93e-4017-a31e-716f06fe4f6b",
   "metadata": {},
   "outputs": [],
   "source": [
    "import math"
   ]
  },
  {
   "cell_type": "code",
   "execution_count": 9,
   "id": "4796bc6f-7e52-4ac3-96ae-8cc6243b33f6",
   "metadata": {},
   "outputs": [],
   "source": [
    "def f(x):\n",
    "    y = x**2 - x - 1\n",
    "    return y"
   ]
  },
  {
   "cell_type": "code",
   "execution_count": 10,
   "id": "4887ce9c-5395-49a1-92f3-3e0bea834e8b",
   "metadata": {},
   "outputs": [],
   "source": [
    "def secant(f, x0, x1, e=0.0001, N=20):\n",
    "    print('it\\t x0\\t\\t x1\\t\\t f(x1)')\n",
    "    print('======================================================')\n",
    "    for i in range(0, N):\n",
    "        print('%i\\t |%.4f\\t |%.4f\\t |%.4f'%(i, x0, x1, f(x1)))\n",
    "        x2 = x1 - f(x1)*(x1-x0)/(f(x1)-f(x0))\n",
    "        x0 = x1\n",
    "        x1 = x2\n",
    "        if abs(f(x1)) < e:\n",
    "            print('Solusi didapatkan : ', x1)\n",
    "            break\n",
    "    return x1"
   ]
  },
  {
   "cell_type": "code",
   "execution_count": 11,
   "id": "2b908c54-3232-4f8e-af89-86738f2708be",
   "metadata": {},
   "outputs": [
    {
     "name": "stdout",
     "output_type": "stream",
     "text": [
      "it\t x0\t\t x1\t\t f(x1)\n",
      "======================================================\n",
      "0\t |0.0000\t |2.0000\t |1.0000\n",
      "1\t |2.0000\t |1.0000\t |-1.0000\n",
      "2\t |1.0000\t |1.5000\t |-0.2500\n",
      "3\t |1.5000\t |1.6667\t |0.1111\n",
      "4\t |1.6667\t |1.6154\t |-0.0059\n",
      "5\t |1.6154\t |1.6180\t |-0.0001\n",
      "Solusi didapatkan :  1.6180340557275543\n",
      "1.6180340557275543\n"
     ]
    }
   ],
   "source": [
    "x_root = secant(f, x0=0, x1=2)\n",
    "print(x_root)"
   ]
  },
  {
   "cell_type": "code",
   "execution_count": null,
   "id": "b92227be-9501-43fb-8597-873d5cb6faea",
   "metadata": {},
   "outputs": [],
   "source": []
  },
  {
   "cell_type": "code",
   "execution_count": null,
   "id": "e0a3881a-040f-4df0-850e-d27da8588181",
   "metadata": {},
   "outputs": [],
   "source": []
  }
 ],
 "metadata": {
  "kernelspec": {
   "display_name": "Python 3 (ipykernel)",
   "language": "python",
   "name": "python3"
  },
  "language_info": {
   "codemirror_mode": {
    "name": "ipython",
    "version": 3
   },
   "file_extension": ".py",
   "mimetype": "text/x-python",
   "name": "python",
   "nbconvert_exporter": "python",
   "pygments_lexer": "ipython3",
   "version": "3.9.7"
  }
 },
 "nbformat": 4,
 "nbformat_minor": 5
}
