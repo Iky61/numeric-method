{
 "cells": [
  {
   "cell_type": "markdown",
   "id": "54cbe7a2-4043-445a-9ca3-f402ba7a1cb4",
   "metadata": {},
   "source": [
    "### Newton-Rapshon Method"
   ]
  },
  {
   "cell_type": "code",
   "execution_count": 1,
   "id": "db0b2a8a-4f7e-4681-8f53-3d19cd01a663",
   "metadata": {},
   "outputs": [],
   "source": [
    "# fungsi f(x)\n",
    "def f(x):\n",
    "    y = x**3-3*x+2\n",
    "    return y\n",
    "\n",
    "# fungsi f'(x)\n",
    "def df(x):\n",
    "    dy = 3*x**2-3\n",
    "    return dy"
   ]
  },
  {
   "cell_type": "code",
   "execution_count": 4,
   "id": "20e540a1-ce2b-460a-92a7-0e9536cef8a0",
   "metadata": {},
   "outputs": [],
   "source": [
    "# fungsi newton-rapshon\n",
    "def newton_rapshon(f, df, a, e=0.00001, N=20):\n",
    "    x0 = a\n",
    "    print('it\\t x0\\t\\t f(x0)')\n",
    "    print('=======================================')\n",
    "    for i in range(0, N):\n",
    "        x0 = x0 - f(x0)/df(x0)\n",
    "        print('%i\\t | %.4f\\t | %.4f\\t ' %(i, x0, f(x0)))\n",
    "        if abs(f(x0)) < e:\n",
    "            print('Solusi didapatkan : ', x0)\n",
    "            break\n",
    "        elif df(x0) == 0:\n",
    "            print('Warning - Zero Devirative')\n",
    "    return x0"
   ]
  },
  {
   "cell_type": "code",
   "execution_count": 5,
   "id": "7a38942b-fd2c-42d1-9f56-9af0043cee14",
   "metadata": {},
   "outputs": [
    {
     "name": "stdout",
     "output_type": "stream",
     "text": [
      "it\t x0\t\t f(x0)\n",
      "=======================================\n",
      "0\t | 0.9037\t | 0.0269\t \n",
      "1\t | 0.9527\t | 0.0066\t \n",
      "2\t | 0.9765\t | 0.0016\t \n",
      "3\t | 0.9883\t | 0.0004\t \n",
      "4\t | 0.9942\t | 0.0001\t \n",
      "5\t | 0.9971\t | 0.0000\t \n",
      "6\t | 0.9985\t | 0.0000\t \n",
      "Solusi didapatkan :  0.998543499239564\n",
      "0.998543499239564\n"
     ]
    }
   ],
   "source": [
    "a = 0.8\n",
    "\n",
    "x_root = newton_rapshon(f, df, a)\n",
    "print(x_root)"
   ]
  },
  {
   "cell_type": "code",
   "execution_count": null,
   "id": "cb1fc4b9-c0cb-401d-98e5-c26ade75e0a6",
   "metadata": {},
   "outputs": [],
   "source": []
  }
 ],
 "metadata": {
  "kernelspec": {
   "display_name": "Python 3 (ipykernel)",
   "language": "python",
   "name": "python3"
  },
  "language_info": {
   "codemirror_mode": {
    "name": "ipython",
    "version": 3
   },
   "file_extension": ".py",
   "mimetype": "text/x-python",
   "name": "python",
   "nbconvert_exporter": "python",
   "pygments_lexer": "ipython3",
   "version": "3.9.7"
  }
 },
 "nbformat": 4,
 "nbformat_minor": 5
}
