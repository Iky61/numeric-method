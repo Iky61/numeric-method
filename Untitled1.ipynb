{
 "cells": [
  {
   "cell_type": "markdown",
   "id": "49d2a137-d32f-4e85-bcb5-ae80a16c173f",
   "metadata": {},
   "source": [
    "### METODE BISEKSI"
   ]
  },
  {
   "cell_type": "code",
   "execution_count": 11,
   "id": "00ffa274-5c0c-42d2-8c31-d18992bf3142",
   "metadata": {},
   "outputs": [],
   "source": [
    "import math"
   ]
  },
  {
   "cell_type": "code",
   "execution_count": 12,
   "id": "a95a67d2-1bc2-4b6c-b210-1748168b25fb",
   "metadata": {},
   "outputs": [],
   "source": [
    "def f(x):\n",
    "    y = x**2 + 3*x - 6\n",
    "    return y"
   ]
  },
  {
   "cell_type": "code",
   "execution_count": 47,
   "id": "406e036a-0399-4f1c-bc48-62c119a1537c",
   "metadata": {},
   "outputs": [],
   "source": [
    "def metode_biseksi(f, a, b, e=0.001, n=50):\n",
    "    x_awal = a\n",
    "    x_akhir = b \n",
    "     \n",
    "    if f(a)*f(b) >= 0:\n",
    "        print('solusi tidak didapatkan')\n",
    "        return None\n",
    "    \n",
    "    else:\n",
    "        for i in range (0, n):\n",
    "            c = (x_awal + x_akhir)/2\n",
    "            print (i, x_awal, c, x_akhir, f(x_awal), f(x_akhir), f(c), abs(f(c)))\n",
    "            \n",
    "            if (abs(f(c))) < e:\n",
    "                print('\\ntoleransinya terpenuhi')\n",
    "                print('solusi didapatkan : ', c)\n",
    "                break\n",
    "            else:\n",
    "                if f(x_awal) * f(c) < 0:\n",
    "                    x_akhirnya = x_awal\n",
    "                elif f(x_akhir) * f(c) < 0:\n",
    "                    x_awal = c\n",
    "                    \n",
    "    return c\n",
    "                        "
   ]
  },
  {
   "cell_type": "code",
   "execution_count": 48,
   "id": "8aa54302-df1e-4eec-8b13-4ecd067d9dd7",
   "metadata": {},
   "outputs": [],
   "source": [
    "a = 1\n",
    "b = 2\n",
    "\n",
    "# x_root = metode_biseksi(f, a, b, c=0)\n",
    "# print(x_root)"
   ]
  },
  {
   "cell_type": "code",
   "execution_count": 46,
   "id": "b8bc842c-c23a-4bbd-8e7f-f912a3f790c3",
   "metadata": {},
   "outputs": [
    {
     "ename": "TypeError",
     "evalue": "metode_biseksi() missing 1 required positional argument: 'c'",
     "output_type": "error",
     "traceback": [
      "\u001b[0;31m---------------------------------------------------------------------------\u001b[0m",
      "\u001b[0;31mTypeError\u001b[0m                                 Traceback (most recent call last)",
      "Input \u001b[0;32mIn [46]\u001b[0m, in \u001b[0;36m<module>\u001b[0;34m\u001b[0m\n\u001b[0;32m----> 1\u001b[0m \u001b[43mmetode_biseksi\u001b[49m\u001b[43m(\u001b[49m\u001b[43mf\u001b[49m\u001b[43m,\u001b[49m\u001b[43m \u001b[49m\u001b[43ma\u001b[49m\u001b[43m,\u001b[49m\u001b[43m \u001b[49m\u001b[43mb\u001b[49m\u001b[43m,\u001b[49m\u001b[43m \u001b[49m\u001b[43me\u001b[49m\u001b[38;5;241;43m=\u001b[39;49m\u001b[38;5;241;43m0.001\u001b[39;49m\u001b[43m,\u001b[49m\u001b[43m \u001b[49m\u001b[43mn\u001b[49m\u001b[38;5;241;43m=\u001b[39;49m\u001b[38;5;241;43m50\u001b[39;49m\u001b[43m)\u001b[49m\n",
      "\u001b[0;31mTypeError\u001b[0m: metode_biseksi() missing 1 required positional argument: 'c'"
     ]
    }
   ],
   "source": [
    "metode_biseksi(f, a, b, e=0.001, n=50)"
   ]
  },
  {
   "cell_type": "code",
   "execution_count": null,
   "id": "f7aca131-7a5f-4658-a00f-9f663f249ae3",
   "metadata": {},
   "outputs": [],
   "source": []
  },
  {
   "cell_type": "code",
   "execution_count": null,
   "id": "6f9633cb-f577-452f-9fb8-9c9272f4a5a2",
   "metadata": {},
   "outputs": [],
   "source": []
  },
  {
   "cell_type": "code",
   "execution_count": null,
   "id": "ab7a3b11-6649-4ed1-9758-73eed96a857d",
   "metadata": {},
   "outputs": [],
   "source": []
  },
  {
   "cell_type": "code",
   "execution_count": null,
   "id": "df515941-909c-4dc1-968e-731d8f30ce15",
   "metadata": {},
   "outputs": [],
   "source": []
  },
  {
   "cell_type": "code",
   "execution_count": null,
   "id": "529d81a1-03c5-49a5-8d37-0155fa8c07aa",
   "metadata": {},
   "outputs": [],
   "source": []
  },
  {
   "cell_type": "code",
   "execution_count": null,
   "id": "87c5c721-39de-418f-9f9e-fbbc12dd9cbc",
   "metadata": {},
   "outputs": [],
   "source": []
  },
  {
   "cell_type": "code",
   "execution_count": null,
   "id": "18b3739a-fdee-44f7-9053-495dc243d98e",
   "metadata": {},
   "outputs": [],
   "source": []
  }
 ],
 "metadata": {
  "kernelspec": {
   "display_name": "Python 3 (ipykernel)",
   "language": "python",
   "name": "python3"
  },
  "language_info": {
   "codemirror_mode": {
    "name": "ipython",
    "version": 3
   },
   "file_extension": ".py",
   "mimetype": "text/x-python",
   "name": "python",
   "nbconvert_exporter": "python",
   "pygments_lexer": "ipython3",
   "version": "3.9.7"
  }
 },
 "nbformat": 4,
 "nbformat_minor": 5
}
